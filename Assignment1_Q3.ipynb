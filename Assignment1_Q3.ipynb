{
 "cells": [
  {
   "cell_type": "code",
   "execution_count": 37,
   "metadata": {},
   "outputs": [],
   "source": [
    "#Assignment 1 Question 3 - Lakeshore Data \n",
    "\n",
    "import os \n",
    "import numpy as np\n",
    "import matplotlib.pyplot as plt\n",
    "from scipy import interpolate \n",
    "from scipy.interpolate import interp1d\n"
   ]
  },
  {
   "cell_type": "code",
   "execution_count": 42,
   "metadata": {},
   "outputs": [],
   "source": [
    "#upload data \n",
    "\n",
    "os.chdir('/Users/margaretbruna/Documents/')\n",
    "temp, volt, der = np.transpose(np.loadtxt('lakeshore.csv',delimiter=','))"
   ]
  },
  {
   "cell_type": "code",
   "execution_count": 43,
   "metadata": {},
   "outputs": [],
   "source": [
    "#sorting the data so that voltage is in increasing order \n",
    "temp = temp[::-1]\n",
    "volt = volt[::-1]\n",
    "der = der[::-1]\n",
    "\n",
    "\n",
    "f = interp1d(volt, temp, kind = 'cubic', bounds_error = False, fill_value = 'extrapolate')\n",
    "\n",
    "x = np.linspace(volt[0],volt[-1],2001)\n",
    "interpol_temp = []\n",
    "for i in x:\n",
    "    interpol_temp.append(f(i))"
   ]
  },
  {
   "cell_type": "code",
   "execution_count": 44,
   "metadata": {
    "scrolled": false
   },
   "outputs": [
    {
     "data": {
      "text/plain": [
       "<matplotlib.legend.Legend at 0x12296afd0>"
      ]
     },
     "execution_count": 44,
     "metadata": {},
     "output_type": "execute_result"
    },
    {
     "data": {
      "image/png": "[encoded data removed]",
      "text/plain": [
       "<Figure size 432x288 with 1 Axes>"
      ]
     },
     "metadata": {
      "needs_background": "light"
     },
     "output_type": "display_data"
    }
   ],
   "source": [
    "#plotting to check if we're close \n",
    "plt.plot(x,interpol_temp,'k-',linewidth=3,label='Interpolation')\n",
    "plt.plot(volt,temp,'r.',markersize=3,label='Data')\n",
    "plt.xlabel('Voltage (V)',fontsize=15)\n",
    "plt.ylabel('Temperature (K)',fontsize=15)\n",
    "plt.legend()"
   ]
  },
  {
   "cell_type": "code",
   "execution_count": 55,
   "metadata": {},
   "outputs": [],
   "source": [
    "# I think I will take derivatives as my error estimates, and will recycle my answer from 1 a) \n",
    "\n",
    "def error_func(V):\n",
    "    #recycled answer from Question 1 \n",
    "    def approx_deriv(func,x,dx):\n",
    "        f1 = (8*(func(x+dx)-func(x-dx))-(func(x+2.0*dx)-func(x-2.0*dx)))/(12*dx)\n",
    "        return f1 \n",
    "    \n",
    "    deriv = []\n",
    "    \n",
    "    #Calculating the derivative for the values from my interpolation function \n",
    "    for i in volt:    \n",
    "        fp = approx_deriv(f,i,1e-10)\n",
    "        deriv.append(fp)\n",
    "    \n",
    "    #Finding the closest voltage value to the input \n",
    "    closest_V = np.abs(volt-V) \n",
    "    close = min(closest_V)\n",
    "    index = 0\n",
    "    #cycles through values of volt - V to see which is the smallest, and takes the index of that to take the closest voltage value from our initial array and its index\n",
    "    for i in range(len(closest_V)):\n",
    "        if closest_V[i]==close:\n",
    "            close_V = volt[i]\n",
    "            index = i \n",
    "    \n",
    "    #the derivatives of our interpolation \n",
    "    deriv = np.array(deriv)\n",
    "    #the error, which takes the difference between the derivative of our interpolatied value and the derivative from the data\n",
    "    #at the correct index\n",
    "    #and then multiplies by the difference from our closest V value to the inputted V value \n",
    "    error_dx = np.abs(deriv-der)[index]*np.absolute(close_V-V)\n",
    "    return error_dx\n"
   ]
  },
  {
   "cell_type": "code",
   "execution_count": 56,
   "metadata": {},
   "outputs": [],
   "source": [
    "#a function that will output a temperature corresponding to the voltage inputted with error! \n",
    "def interpol(v_want):\n",
    "    print(f'for a voltage {np.round(v_want,3)} V the temperature is {np.round(f(v_want),3)} K with an error of {np.round(error_func(v_want),3)} K')\n",
    "    \n",
    "    "
   ]
  },
  {
   "cell_type": "code",
   "execution_count": 59,
   "metadata": {},
   "outputs": [
    {
     "name": "stdout",
     "output_type": "stream",
     "text": [
      "for a voltage 1.4 V the temperature is 9.412 K with an error of 0.017 K\n"
     ]
    }
   ],
   "source": [
    "interpol(1.4)"
   ]
  },
  {
   "cell_type": "code",
   "execution_count": null,
   "metadata": {},
   "outputs": [],
   "source": []
  }
 ],
 "metadata": {
  "kernelspec": {
   "display_name": "Python 3",
   "language": "python",
   "name": "python3"
  },
  "language_info": {
   "codemirror_mode": {
    "name": "ipython",
    "version": 3
   },
   "file_extension": ".py",
   "mimetype": "text/x-python",
   "name": "python",
   "nbconvert_exporter": "python",
   "pygments_lexer": "ipython3",
   "version": "3.7.3"
  }
 },
 "nbformat": 4,
 "nbformat_minor": 2
}
