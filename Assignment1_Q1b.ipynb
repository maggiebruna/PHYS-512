{
 "cells": [
  {
   "cell_type": "code",
   "execution_count": 18,
   "metadata": {},
   "outputs": [],
   "source": [
    "# Testing Assignment 1 question 1b for f(x) = exp(x) and f(x) = exp(0.01x)"
   ]
  },
  {
   "cell_type": "code",
   "execution_count": 112,
   "metadata": {},
   "outputs": [],
   "source": [
    "import numpy as np\n",
    "import matplotlib.pyplot as plt\n",
    "\n",
    "#epsilon value\n",
    "eps = 1e-16\n",
    "\n",
    "#constants for our exponential functions\n",
    "a1 = 1.0\n",
    "a2 = 0.01\n",
    "\n",
    "#x value :) \n",
    "x = 0.0\n"
   ]
  },
  {
   "cell_type": "code",
   "execution_count": 113,
   "metadata": {},
   "outputs": [],
   "source": [
    "#we know the derivative of np.exp(a*x) is a*np.exp(a*x)\n",
    "\n",
    "def true_deriv(a,x):\n",
    "    return a*np.exp(a*x)\n",
    "\n",
    "#we have found an approximation in a) that we can use to see if our dx is correct\n",
    "\n",
    "#within this we can define our optimal dx value found in the PDF attached\n",
    "def approx_deriv(a,x,eps = eps):\n",
    "\n",
    "    def bestd(a,x,eps):\n",
    "        dx = (45.0*eps*func(x))/4.0*func5(x)\n",
    "        return dx \n",
    "    \n",
    "    def func(x):\n",
    "        return np.exp(a*x)\n",
    "    \n",
    "    def func5(x):\n",
    "        return (a**5)*np.exp(a*x)\n",
    "    \n",
    "    def bestd(a,x,eps):\n",
    "        dx = (45.0*func(x)*eps/(4.0*func5(x)))**0.2\n",
    "        return dx \n",
    "    \n",
    "    dx = bestd(a,x,eps)\n",
    "    print('estimated dx = ',dx)\n",
    "    \n",
    "    f1 = (8*(func(x+dx)-func(x-dx))-(func(x+2.0*dx)-func(x-2.0*dx)))/(12*dx)\n",
    "    return f1 "
   ]
  },
  {
   "cell_type": "code",
   "execution_count": 114,
   "metadata": {},
   "outputs": [
    {
     "name": "stdout",
     "output_type": "stream",
     "text": [
      "estimated dx =  0.0010238362555396092\n",
      "for f(x) = np.exp(x)\n",
      "difference between true and approximated derivative -1.709743457922741e-14\n"
     ]
    }
   ],
   "source": [
    "# now we can see the difference between our known derivative \n",
    "# and our estimated derivative  \n",
    "\n",
    "#for f(x) = np.exp(x)\n",
    "deriv_diff = true_deriv(a1,x) - approx_deriv(a1,x,eps)\n",
    "print('for f(x) = np.exp(x)')\n",
    "print('difference between true and approximated derivative',deriv_diff)"
   ]
  },
  {
   "cell_type": "code",
   "execution_count": 115,
   "metadata": {},
   "outputs": [
    {
     "name": "stdout",
     "output_type": "stream",
     "text": [
      "estimated dx =  0.10238362555396095\n",
      "for f(x) = np.exp(0.01*x)\n",
      "difference between true and approximated derivative 1.214306433183765e-17\n"
     ]
    }
   ],
   "source": [
    "#repeating for f(x) = np.exp(0.01*x)\n",
    "\n",
    "deriv_diff = true_deriv(a2,x) - approx_deriv(a2,x,eps)\n",
    "print('for f(x) = np.exp(0.01*x)')\n",
    "print('difference between true and approximated derivative',deriv_diff)"
   ]
  },
  {
   "cell_type": "code",
   "execution_count": null,
   "metadata": {},
   "outputs": [],
   "source": [
    "#not too bad! not sure if this is robust enough but seems like pretty small differences! "
   ]
  }
 ],
 "metadata": {
  "kernelspec": {
   "display_name": "Python 3",
   "language": "python",
   "name": "python3"
  },
  "language_info": {
   "codemirror_mode": {
    "name": "ipython",
    "version": 3
   },
   "file_extension": ".py",
   "mimetype": "text/x-python",
   "name": "python",
   "nbconvert_exporter": "python",
   "pygments_lexer": "ipython3",
   "version": "3.7.3"
  }
 },
 "nbformat": 4,
 "nbformat_minor": 2
}
