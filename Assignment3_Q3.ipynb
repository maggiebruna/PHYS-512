{
 "cells": [
  {
   "cell_type": "code",
   "execution_count": 3,
   "metadata": {},
   "outputs": [],
   "source": [
    "import numpy as np\n",
    "import matplotlib.pyplot as plt\n",
    "import os"
   ]
  },
  {
   "cell_type": "code",
   "execution_count": 2,
   "metadata": {},
   "outputs": [],
   "source": [
    "#see pdf attached for part a "
   ]
  },
  {
   "cell_type": "code",
   "execution_count": 30,
   "metadata": {},
   "outputs": [],
   "source": [
    "#linear least squares fitting \n",
    "\n",
    "#importing the file \n",
    "dish_data = np.transpose(np.loadtxt('Desktop/dish_zenith.txt'))\n",
    "x = dish_data[0]\n",
    "y = dish_data[1]\n",
    "z = dish_data[2]"
   ]
  },
  {
   "cell_type": "code",
   "execution_count": 61,
   "metadata": {},
   "outputs": [
    {
     "name": "stdout",
     "output_type": "stream",
     "text": [
      "Im confused about how to make the matrix A work with the rest in order to solve for m, I dont have time to finish :(\n"
     ]
    }
   ],
   "source": [
    "#making our matrices ! \n",
    "#to solve for m we have m = (A^T*N^-1*A)^-1*A^TN^-1x \n",
    "#where x is the data, A is the transformation matrix\n",
    "#and I guess N is just 1 for now \n",
    "\n",
    "#defining our linear function: \n",
    "def sym_par(x,y,a,c1,c2,c3):\n",
    "    z = a*(x**2 + y**2) - c3*x - c2*y + c1 \n",
    "    return z \n",
    "\n",
    "\n",
    "A = np.asarray([1,1,1,-1,-1])\n",
    "B = np.asarray([x**2, y**2, x, y, 1])\n",
    "AB = np.dot(A,B)\n",
    "\n",
    "N = np.identity(5)\n",
    "\n",
    "#the transpose of AB \n",
    "AT = np.transpose(A)\n",
    "\n",
    "print('Im confused about how to make the matrix A work with the rest in order to solve for m, I dont have time to finish :(')"
   ]
  },
  {
   "cell_type": "code",
   "execution_count": null,
   "metadata": {},
   "outputs": [],
   "source": []
  }
 ],
 "metadata": {
  "kernelspec": {
   "display_name": "Python 3",
   "language": "python",
   "name": "python3"
  },
  "language_info": {
   "codemirror_mode": {
    "name": "ipython",
    "version": 3
   },
   "file_extension": ".py",
   "mimetype": "text/x-python",
   "name": "python",
   "nbconvert_exporter": "python",
   "pygments_lexer": "ipython3",
   "version": "3.7.3"
  }
 },
 "nbformat": 4,
 "nbformat_minor": 2
}
