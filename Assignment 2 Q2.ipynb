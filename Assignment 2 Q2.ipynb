{
 "cells": [
  {
   "cell_type": "code",
   "execution_count": 1,
   "metadata": {},
   "outputs": [],
   "source": [
    "# writing a recursive step size integrator that doesn't call f(x) multiple times for the same x \n",
    "import numpy as np \n",
    "import matplotlib.pyplot as plt "
   ]
  },
  {
   "cell_type": "code",
   "execution_count": 39,
   "metadata": {},
   "outputs": [],
   "source": [
    "#defining step size \n",
    "step = 5\n",
    "\n",
    "#My version \n",
    "def lorentz(x):\n",
    "    lorentz.counter += 1\n",
    "    return 1/(1+x**2)\n",
    "lorentz.counter = 0\n",
    "\n",
    "\n",
    "def integrate_adaptive_me(fun,x0,x1,tol,extra = None):\n",
    "    print('integrating over',x0,x1)\n",
    "    if extra is None: \n",
    "        x=np.linspace(x0,x1,step)\n",
    "        #print('first x',x)\n",
    "        y=fun(x)\n",
    "        extra = [x,y]\n",
    "    else: \n",
    "        #print('subsequent runs')\n",
    "        x = np.linspace(x0,x1,step)\n",
    "        y = []\n",
    "        new_x = []\n",
    "\n",
    "        \n",
    "\n",
    "    #print('extra',extra[0])\n",
    "    dx=(x1-x0)/(len(x)-1)\n",
    "    area1=2*dx*(y[0]+4*y[2]+y[4])/3 \n",
    "    area2=dx*(y[0]+4*y[1]+2*y[2]+4*y[3]+y[4])/3 \n",
    "    err=np.abs(area1-area2)\n",
    "    if err < tol:\n",
    "        return area2\n",
    "    else: \n",
    "        xmid = (x0 + x1)/2 \n",
    "        left=integrate_adaptive_me(fun,x0,xmid,tol/2,extra=extra)\n",
    "        right=integrate_adaptive_me(fun,xmid,x1,tol/2,extra=extra)\n",
    "        return left + right \n",
    "    \n"
   ]
  },
  {
   "cell_type": "code",
   "execution_count": 40,
   "metadata": {},
   "outputs": [
    {
     "name": "stdout",
     "output_type": "stream",
     "text": [
      "integrating over -100 100\n",
      "integrating over -100 0.0\n",
      "integrating over 0.0 100\n",
      "51\n",
      "96.88840567988353\n"
     ]
    }
   ],
   "source": [
    "ans = integrate_adaptive_me(lorentz,-100,100,1e-7,extra=None)\n",
    "print(lorentz.counter)\n",
    "print(ans-(np.arctan(100)-np.arctan(-100)))"
   ]
  },
  {
   "cell_type": "code",
   "execution_count": 22,
   "metadata": {},
   "outputs": [],
   "source": [
    "#His version \n",
    "def lorentz(x):\n",
    "    lorentz.counter += 1\n",
    "    return 1/(1+x**2)\n",
    "lorentz.counter = 0\n",
    "\n",
    "def integrate_adaptive(fun,x0,x1,tol):\n",
    "    #print('integrating between ',x0,x1)\n",
    "    #hardwire to use simpsons\n",
    "    x=np.linspace(x0,x1,5)\n",
    "    y=fun(x)\n",
    "    dx=(x1-x0)/(len(x)-1)\n",
    "    area1=2*dx*(y[0]+4*y[2]+y[4])/3 #coarse step\n",
    "    area2=dx*(y[0]+4*y[1]+2*y[2]+4*y[3]+y[4])/3 #finer step\n",
    "    err=np.abs(area1-area2)\n",
    "    if err<tol:\n",
    "        return area2\n",
    "    else:\n",
    "        xmid=(x0+x1)/2\n",
    "        left=integrate_adaptive(fun,x0,xmid,tol/2)\n",
    "        right=integrate_adaptive(fun,xmid,x1,tol/2)\n",
    "        return left+right\n"
   ]
  },
  {
   "cell_type": "code",
   "execution_count": 23,
   "metadata": {},
   "outputs": [
    {
     "name": "stdout",
     "output_type": "stream",
     "text": [
      "1035\n",
      "2.2791075693362473e-09\n"
     ]
    }
   ],
   "source": [
    "ans2 = integrate_adaptive(lorentz,-100,100,1e-7)\n",
    "print(lorentz.counter)\n",
    "print(ans2-(np.arctan(100)-np.arctan(-100)))"
   ]
  },
  {
   "cell_type": "code",
   "execution_count": null,
   "metadata": {},
   "outputs": [],
   "source": [
    "# I tried so many things to get this question to work\n",
    "# I'm sure it's simpler than what I'm trying to do \n",
    "# But I the function either stops early with a very low error, or calls the function MORE often... \n",
    "# I know this is a mess "
   ]
  }
 ],
 "metadata": {
  "kernelspec": {
   "display_name": "Python 3",
   "language": "python",
   "name": "python3"
  },
  "language_info": {
   "codemirror_mode": {
    "name": "ipython",
    "version": 3
   },
   "file_extension": ".py",
   "mimetype": "text/x-python",
   "name": "python",
   "nbconvert_exporter": "python",
   "pygments_lexer": "ipython3",
   "version": "3.7.3"
  }
 },
 "nbformat": 4,
 "nbformat_minor": 2
}
